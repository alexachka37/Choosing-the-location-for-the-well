{
 "cells": [
  {
   "cell_type": "markdown",
   "metadata": {},
   "source": [
    "# Выбор локации для скважины"
   ]
  },
  {
   "cell_type": "markdown",
   "metadata": {},
   "source": [
    "Допустим, вы работаете в добывающей компании «ГлавРосГосНефть». Нужно решить, где бурить новую скважину.\n",
    "\n",
    "Вам предоставлены пробы нефти в трёх регионах: в каждом 10 000 месторождений, где измерили качество нефти и объём её запасов. Постройте модель машинного обучения, которая поможет определить регион, где добыча принесёт наибольшую прибыль. Проанализируйте возможную прибыль и риски техникой *Bootstrap.*\n",
    "\n",
    "Шаги для выбора локации:\n",
    "\n",
    "- В избранном регионе ищут месторождения, для каждого определяют значения признаков;\n",
    "- Строят модель и оценивают объём запасов;\n",
    "- Выбирают месторождения с самым высокими оценками значений. Количество месторождений зависит от бюджета компании и стоимости разработки одной скважины;\n",
    "- Прибыль равна суммарной прибыли отобранных месторождений."
   ]
  },
  {
   "cell_type": "markdown",
   "metadata": {},
   "source": [
    "Цель исследования: построить модель машинного обучения, помогающую определить регион, где добыча принесет наибольшую прибыль.\n",
    "\n",
    "Задачи:\n",
    "\n",
    "    - обучить и проверить модель линейной регрессии для каждого региона.\n",
    "    \n",
    "    - рассчитать объем сырья для безубыточной разработки новой скважины;\n",
    "    \n",
    "    - посчитать риски и прибыль для каждого региона.\n",
    "    \n",
    "Описание данных:\n",
    "- id — уникальный идентификатор скважины;\n",
    "- f0, f1, f2 — три признака точек (признаки значимы);\n",
    "- product — объём запасов в скважине (тыс. баррелей)."
   ]
  },
  {
   "cell_type": "markdown",
   "metadata": {},
   "source": [
    "## Загрузка и подготовка данных"
   ]
  },
  {
   "cell_type": "markdown",
   "metadata": {},
   "source": [
    "Загрузим необходимые библиотеки для работы с данными."
   ]
  },
  {
   "cell_type": "code",
   "execution_count": 1,
   "metadata": {},
   "outputs": [],
   "source": [
    "import pandas as pd\n",
    "import numpy as np\n",
    "import matplotlib.pyplot as plt\n",
    "import seaborn as sns\n",
    "from sklearn.linear_model import LinearRegression\n",
    "from sklearn.model_selection import train_test_split\n",
    "from sklearn.metrics import mean_squared_error"
   ]
  },
  {
   "cell_type": "markdown",
   "metadata": {},
   "source": [
    "Считаем данные из csv-файлов `geo_data_0.csv`, `geo_data_1.csv`, `geo_data_2.csv` и сохраним их в переменные `data_1`, `data_2`, `data_3` соотвественно."
   ]
  },
  {
   "cell_type": "code",
   "execution_count": 4,
   "metadata": {},
   "outputs": [],
   "source": [
    "try:\n",
    "    data_1 = pd.read_csv('/datasets/geo_data_0.csv')\n",
    "except:\n",
    "    data_1 = pd.read_csv('https://code.s3.yandex.net/datasets/geo_data_0.csv')"
   ]
  },
  {
   "cell_type": "code",
   "execution_count": 5,
   "metadata": {},
   "outputs": [],
   "source": [
    "try:\n",
    "    data_2 = pd.read_csv('/datasets/geo_data_1.csv')\n",
    "except:\n",
    "    data_2 = pd.read_csv('https://code.s3.yandex.net/datasets/geo_data_1.csv')"
   ]
  },
  {
   "cell_type": "code",
   "execution_count": 6,
   "metadata": {},
   "outputs": [],
   "source": [
    "try:\n",
    "    data_3 = pd.read_csv('/datasets/geo_data_2.csv')\n",
    "except:\n",
    "    data_3 = pd.read_csv('https://code.s3.yandex.net/datasets/geo_data_2.csv')"
   ]
  },
  {
   "cell_type": "markdown",
   "metadata": {},
   "source": [
    "Выведем основную информацию о наших датафреймах с помощью методов `info()` и `head()`."
   ]
  },
  {
   "cell_type": "code",
   "execution_count": 7,
   "metadata": {},
   "outputs": [],
   "source": [
    "data={'Регион 1':data_1, 'Регион 2':data_2, 'Регион 3':data_3}"
   ]
  },
  {
   "cell_type": "code",
   "execution_count": 8,
   "metadata": {},
   "outputs": [
    {
     "name": "stdout",
     "output_type": "stream",
     "text": [
      "Регион 1\n",
      "      id        f0        f1        f2     product\n",
      "0  txEyH  0.705745 -0.497823  1.221170  105.280062\n",
      "1  2acmU  1.334711 -0.340164  4.365080   73.037750\n",
      "2  409Wp  1.022732  0.151990  1.419926   85.265647\n",
      "3  iJLyR -0.032172  0.139033  2.978566  168.620776\n",
      "4  Xdl7t  1.988431  0.155413  4.751769  154.036647\n",
      "\n",
      "<class 'pandas.core.frame.DataFrame'>\n",
      "RangeIndex: 100000 entries, 0 to 99999\n",
      "Data columns (total 5 columns):\n",
      " #   Column   Non-Null Count   Dtype  \n",
      "---  ------   --------------   -----  \n",
      " 0   id       100000 non-null  object \n",
      " 1   f0       100000 non-null  float64\n",
      " 2   f1       100000 non-null  float64\n",
      " 3   f2       100000 non-null  float64\n",
      " 4   product  100000 non-null  float64\n",
      "dtypes: float64(4), object(1)\n",
      "memory usage: 3.8+ MB\n",
      "None\n",
      "\n",
      "Регион 2\n",
      "      id         f0         f1        f2     product\n",
      "0  kBEdx -15.001348  -8.276000 -0.005876    3.179103\n",
      "1  62mP7  14.272088  -3.475083  0.999183   26.953261\n",
      "2  vyE1P   6.263187  -5.948386  5.001160  134.766305\n",
      "3  KcrkZ -13.081196 -11.506057  4.999415  137.945408\n",
      "4  AHL4O  12.702195  -8.147433  5.004363  134.766305\n",
      "\n",
      "<class 'pandas.core.frame.DataFrame'>\n",
      "RangeIndex: 100000 entries, 0 to 99999\n",
      "Data columns (total 5 columns):\n",
      " #   Column   Non-Null Count   Dtype  \n",
      "---  ------   --------------   -----  \n",
      " 0   id       100000 non-null  object \n",
      " 1   f0       100000 non-null  float64\n",
      " 2   f1       100000 non-null  float64\n",
      " 3   f2       100000 non-null  float64\n",
      " 4   product  100000 non-null  float64\n",
      "dtypes: float64(4), object(1)\n",
      "memory usage: 3.8+ MB\n",
      "None\n",
      "\n",
      "Регион 3\n",
      "      id        f0        f1        f2     product\n",
      "0  fwXo0 -1.146987  0.963328 -0.828965   27.758673\n",
      "1  WJtFt  0.262778  0.269839 -2.530187   56.069697\n",
      "2  ovLUW  0.194587  0.289035 -5.586433   62.871910\n",
      "3  q6cA6  2.236060 -0.553760  0.930038  114.572842\n",
      "4  WPMUX -0.515993  1.716266  5.899011  149.600746\n",
      "\n",
      "<class 'pandas.core.frame.DataFrame'>\n",
      "RangeIndex: 100000 entries, 0 to 99999\n",
      "Data columns (total 5 columns):\n",
      " #   Column   Non-Null Count   Dtype  \n",
      "---  ------   --------------   -----  \n",
      " 0   id       100000 non-null  object \n",
      " 1   f0       100000 non-null  float64\n",
      " 2   f1       100000 non-null  float64\n",
      " 3   f2       100000 non-null  float64\n",
      " 4   product  100000 non-null  float64\n",
      "dtypes: float64(4), object(1)\n",
      "memory usage: 3.8+ MB\n",
      "None\n",
      "\n"
     ]
    }
   ],
   "source": [
    "for k,v in data.items():\n",
    "    print(k)\n",
    "    print(v.head())\n",
    "    print()\n",
    "    print(v.info())\n",
    "    print()"
   ]
  },
  {
   "cell_type": "markdown",
   "metadata": {},
   "source": [
    "Проверим датафреймы на наличие дубликатов:"
   ]
  },
  {
   "cell_type": "code",
   "execution_count": 9,
   "metadata": {},
   "outputs": [
    {
     "name": "stdout",
     "output_type": "stream",
     "text": [
      "Количество дубликатов Регион 1 равно 0\n",
      "Количество дубликатов Регион 2 равно 0\n",
      "Количество дубликатов Регион 3 равно 0\n"
     ]
    }
   ],
   "source": [
    "for k, v in data.items():\n",
    "  print('Количество дубликатов', k, 'равно',v.duplicated().sum())"
   ]
  },
  {
   "cell_type": "markdown",
   "metadata": {},
   "source": [
    "Удалим из датасетов столбец 'id', поскольку очевидно уникальный идентификатор скважины не будет влиять на прогноз."
   ]
  },
  {
   "cell_type": "code",
   "execution_count": 10,
   "metadata": {},
   "outputs": [],
   "source": [
    "data_1 = data_1.drop(columns=['id'])\n",
    "data_2 = data_2.drop(columns=['id'])\n",
    "data_3 = data_3.drop(columns=['id'])"
   ]
  },
  {
   "cell_type": "markdown",
   "metadata": {},
   "source": [
    "Проверим наш датасет на наличие коллинеарных признаков, для этого построим тепловую карту матрицы корреляции"
   ]
  },
  {
   "cell_type": "code",
   "execution_count": 11,
   "metadata": {},
   "outputs": [
    {
     "name": "stdout",
     "output_type": "stream",
     "text": [
      "Регион 1\n"
     ]
    },
    {
     "data": {
      "image/png": "[encoded data removed]",
      "text/plain": [
       "<Figure size 288x216 with 2 Axes>"
      ]
     },
     "metadata": {},
     "output_type": "display_data"
    },
    {
     "name": "stdout",
     "output_type": "stream",
     "text": [
      "Регион 2\n"
     ]
    },
    {
     "data": {
      "image/png": "[encoded data removed]",
      "text/plain": [
       "<Figure size 288x216 with 2 Axes>"
      ]
     },
     "metadata": {},
     "output_type": "display_data"
    },
    {
     "name": "stdout",
     "output_type": "stream",
     "text": [
      "Регион 3\n"
     ]
    },
    {
     "data": {
      "image/png": "[encoded data removed]",
      "text/plain": [
       "<Figure size 288x216 with 2 Axes>"
      ]
     },
     "metadata": {},
     "output_type": "display_data"
    }
   ],
   "source": [
    "for k, v in data.items():\n",
    "    print(k)\n",
    "    sns.set(rc = {'figure.figsize':(4,3)})\n",
    "    sns.heatmap(v.corr(), annot=True, fmt='.1g')\n",
    "    plt.show();"
   ]
  },
  {
   "cell_type": "markdown",
   "metadata": {},
   "source": [
    "По данной карте мы видим, что признаков с сильной корреляцией в наших данных нет (больших 0.6), также замечаем, что в регионе 2 присутствует сильная корелляция между признаком f2 и целевым признаком."
   ]
  },
  {
   "cell_type": "code",
   "execution_count": 12,
   "metadata": {},
   "outputs": [
    {
     "data": {
      "image/png": "[encoded data removed]",
      "text/plain": [
       "<Figure size 576x432 with 1 Axes>"
      ]
     },
     "metadata": {},
     "output_type": "display_data"
    },
    {
     "data": {
      "image/png": "[encoded data removed]",
      "text/plain": [
       "<Figure size 576x432 with 1 Axes>"
      ]
     },
     "metadata": {},
     "output_type": "display_data"
    },
    {
     "data": {
      "image/png": "[encoded data removed]",
      "text/plain": [
       "<Figure size 576x432 with 1 Axes>"
      ]
     },
     "metadata": {},
     "output_type": "display_data"
    }
   ],
   "source": [
    "for k, v in data.items():\n",
    "    message = f\"Распределение объема запасов {k}\"\n",
    "    v['product'].plot(kind='hist', figsize=(8,6))\n",
    "    plt.xlabel('Объем запасов в скважине (тыс. баррелей)')\n",
    "    plt.ylabel('Количество скважин')\n",
    "    plt.title(message)\n",
    "    plt.show();"
   ]
  },
  {
   "cell_type": "markdown",
   "metadata": {},
   "source": [
    "Замечаем, что распределение в регионе 2 разительно отличается и не является нормальным в отличие от распределений регионов 1 и 3.   "
   ]
  },
  {
   "cell_type": "markdown",
   "metadata": {},
   "source": [
    "Разобьем наши данные на два датасета для каждого региона: сохраним признаки f_0, f_1, f_2 в переменных features_1, features_2 и features_3, а целевой признак product - в переменных target_1, target_2, target_3."
   ]
  },
  {
   "cell_type": "code",
   "execution_count": 13,
   "metadata": {},
   "outputs": [],
   "source": [
    "def features_target(data):\n",
    "    features = data.drop(columns=['product'])\n",
    "    target = data['product']\n",
    "    return features, target    "
   ]
  },
  {
   "cell_type": "code",
   "execution_count": 14,
   "metadata": {},
   "outputs": [],
   "source": [
    "features_1, target_1 = features_target(data_1)\n",
    "features_2, target_2 = features_target(data_2)\n",
    "features_3, target_3 = features_target(data_3)"
   ]
  },
  {
   "cell_type": "markdown",
   "metadata": {},
   "source": [
    "Разделим датасеты data_1, data_2, data_3  на обучающую и валидационную выборки в соотношении 3:1 (75% и 25% соответственно). "
   ]
  },
  {
   "cell_type": "code",
   "execution_count": 15,
   "metadata": {},
   "outputs": [],
   "source": [
    "def train_valid(features, target):\n",
    "    features_train, features_valid, target_train, target_valid = train_test_split(\n",
    "        features, target, test_size=0.25, random_state=12345)\n",
    "    return features_train, features_valid, target_train, target_valid"
   ]
  },
  {
   "cell_type": "code",
   "execution_count": 16,
   "metadata": {},
   "outputs": [],
   "source": [
    "features_train_1, features_valid_1, target_train_1, target_valid_1 = train_valid(features_1, target_1) "
   ]
  },
  {
   "cell_type": "code",
   "execution_count": 17,
   "metadata": {},
   "outputs": [],
   "source": [
    "features_train_2, features_valid_2, target_train_2, target_valid_2 = train_valid(features_2, target_2)"
   ]
  },
  {
   "cell_type": "code",
   "execution_count": 18,
   "metadata": {},
   "outputs": [],
   "source": [
    "features_train_3, features_valid_3, target_train_3, target_valid_3 = train_valid(features_3, target_3)"
   ]
  },
  {
   "cell_type": "markdown",
   "metadata": {},
   "source": [
    "Определим размерности обучающей и валидационной выборок."
   ]
  },
  {
   "cell_type": "code",
   "execution_count": 19,
   "metadata": {},
   "outputs": [
    {
     "name": "stdout",
     "output_type": "stream",
     "text": [
      "(75000, 3)\n",
      "(25000, 3)\n",
      "(75000, 3)\n",
      "(25000, 3)\n",
      "(75000, 3)\n",
      "(25000, 3)\n"
     ]
    }
   ],
   "source": [
    "for feat in [features_train_1, features_valid_1, features_train_2, features_valid_2, features_train_3, features_valid_3]:\n",
    "    print(feat.shape)"
   ]
  },
  {
   "cell_type": "markdown",
   "metadata": {},
   "source": [
    "Выводы: в данном разделе мы подготовили данные к машинному обучению.\n",
    "\n",
    "- проверили наши данные на наличие дубликатов и пропущенных значений,\n",
    "\n",
    "- удалили столбец 'id' которsq не влияет на значение целевого признака.\n",
    "\n",
    "- изучили корреляцию признаков, увидели, что между признаками отсутствует сильная корреляция. Нет коэффициэнтов корреляции больше 0.6.\n",
    "\n",
    "- в регионе 2 выявили сильную корелляцию между признаком f2 и целевым признаком.\n",
    "\n",
    "- разделили наши данные на обучающую и валидационную выборки. В обучающую выборку попали 75000 наблюдений, в валидационную 25000 наблюдений.\n"
   ]
  },
  {
   "cell_type": "markdown",
   "metadata": {},
   "source": [
    "## Обучение и проверка модели"
   ]
  },
  {
   "cell_type": "markdown",
   "metadata": {},
   "source": [
    "Создадим функцию для инициализации линейной модели"
   ]
  },
  {
   "cell_type": "code",
   "execution_count": 20,
   "metadata": {},
   "outputs": [],
   "source": [
    "def lin_regression(features_train, target_train, features_valid, target_valid):\n",
    "    model = LinearRegression()\n",
    "    model.fit(features_train, target_train)\n",
    "    predictions_valid = model.predict(features_valid)\n",
    "    predict_mean = predictions_valid.mean()\n",
    "    result = mean_squared_error(target_valid, predictions_valid) ** (0.5)\n",
    "    print(f'Средний запас предсказанного сырья {round(predict_mean,2)} тыс. баррелей')\n",
    "    print(f\"RMSE модели линейной регрессии на валидационной выборке: {round(result,2)}\")\n",
    "    return predictions_valid, round(predict_mean,2), round(result,2) "
   ]
  },
  {
   "cell_type": "code",
   "execution_count": 21,
   "metadata": {},
   "outputs": [
    {
     "name": "stdout",
     "output_type": "stream",
     "text": [
      "Для региона 1:\n",
      "Средний запас предсказанного сырья 92.59 тыс. баррелей\n",
      "RMSE модели линейной регрессии на валидационной выборке: 37.58\n"
     ]
    }
   ],
   "source": [
    "print('Для региона 1:')\n",
    "predictions_valid_1, predict_mean_1, result_1 = lin_regression(\n",
    "    features_train_1, target_train_1, features_valid_1, target_valid_1)"
   ]
  },
  {
   "cell_type": "code",
   "execution_count": 22,
   "metadata": {},
   "outputs": [
    {
     "name": "stdout",
     "output_type": "stream",
     "text": [
      "Для региона 2:\n",
      "Средний запас предсказанного сырья 68.73 тыс. баррелей\n",
      "RMSE модели линейной регрессии на валидационной выборке: 0.89\n"
     ]
    }
   ],
   "source": [
    "print('Для региона 2:')\n",
    "predictions_valid_2, predict_mean_2, result_2 = lin_regression(\n",
    "    features_train_2, target_train_2, features_valid_2, target_valid_2)"
   ]
  },
  {
   "cell_type": "code",
   "execution_count": 23,
   "metadata": {},
   "outputs": [
    {
     "name": "stdout",
     "output_type": "stream",
     "text": [
      "Для региона 3:\n",
      "Средний запас предсказанного сырья 94.97 тыс. баррелей\n",
      "RMSE модели линейной регрессии на валидационной выборке: 40.03\n"
     ]
    }
   ],
   "source": [
    "print('Для региона 3:')\n",
    "predictions_valid_3, predict_mean_3, result_3 = lin_regression(\n",
    "    features_train_3, target_train_3, features_valid_3, target_valid_3)"
   ]
  },
  {
   "cell_type": "markdown",
   "metadata": {},
   "source": [
    "Выводы: таким образом, делаем вывод, что модель линейной регрессии лучше всего работает на данных второго региона, поскольку значение RMSE минимально и равно 0.89, при этом средний запас предсказанного сырья в данном регионе тоже минимальный - 68.73 тыс. баррелей. Это может быть связано с тем, что распределение целевого признака региона 1 отлично от нормального и между признаком f_2 и целевым признаком есть сильная корреляция. Максимальный средний запас предсказанного сырья мы наблюдаем в регионе 3, его значение - 94.97 тыс. баррелей.  "
   ]
  },
  {
   "cell_type": "markdown",
   "metadata": {},
   "source": [
    "## Подготовка к расчёту прибыли"
   ]
  },
  {
   "cell_type": "markdown",
   "metadata": {},
   "source": [
    "Сохраним ключевые значения для расчётов в отдельных переменных."
   ]
  },
  {
   "cell_type": "code",
   "execution_count": 24,
   "metadata": {},
   "outputs": [],
   "source": [
    "BUDGET = 10_000_000_000 #бюджет на разработку\n",
    "BOREHOLE_COUNT = 200 #количество отобранных скважин \n",
    "BARREL_RUB = 450_000 #доход в рублях на тысячу баррелей"
   ]
  },
  {
   "cell_type": "markdown",
   "metadata": {},
   "source": [
    "Вычислим размер бюджета на одну скважину и достаточный объём сырья в тыс. баррелей для безубыточной разработки новой скважины."
   ]
  },
  {
   "cell_type": "code",
   "execution_count": 25,
   "metadata": {},
   "outputs": [
    {
     "name": "stdout",
     "output_type": "stream",
     "text": [
      "Размер бюджета на одну скважину 50000000.0 рублей\n"
     ]
    }
   ],
   "source": [
    "BUDGET_BOREHOLE = BUDGET/BOREHOLE_COUNT\n",
    "print('Размер бюджета на одну скважину', BUDGET_BOREHOLE, 'рублей')"
   ]
  },
  {
   "cell_type": "code",
   "execution_count": 26,
   "metadata": {},
   "outputs": [
    {
     "name": "stdout",
     "output_type": "stream",
     "text": [
      "Достаточный объём сырья для безубыточной разработки новой скважины 111.11 тыс. баррелей\n"
     ]
    }
   ],
   "source": [
    "BREAKEVEN_BARREL = BUDGET_BOREHOLE/BARREL_RUB\n",
    "print('Достаточный объём сырья для безубыточной разработки новой скважины', round(BREAKEVEN_BARREL,2), 'тыс. баррелей')"
   ]
  },
  {
   "cell_type": "markdown",
   "metadata": {},
   "source": [
    "Выводы: для безубыточной разработки необходимо, чтобы достаточный объем сырья в скважине был не меньше 111 тыс. баррелей, средние же предсказанные значения в регионах разработки значительно меньше и равны 92, 68, 96 соответственно в трех регионах. Значит нам нужно построить алгоритм поиска скважин с наибольшими предсказанными значениями объема сырья, чтобы обеспечить безубыточную разработку.    "
   ]
  },
  {
   "cell_type": "markdown",
   "metadata": {},
   "source": [
    "## Расчёт прибыли и рисков "
   ]
  },
  {
   "cell_type": "markdown",
   "metadata": {},
   "source": [
    "Напишем функцию для расчёта прибыли по выбранным скважинам и предсказаниям модели"
   ]
  },
  {
   "cell_type": "code",
   "execution_count": 30,
   "metadata": {},
   "outputs": [],
   "source": [
    "def revenue(target, probabilities, count):\n",
    "    probs_sorted = probabilities.sort_values(ascending=False)\n",
    "    selected = target[probs_sorted.index][:count]\n",
    "    return BARREL_RUB * selected.sum() - BUDGET"
   ]
  },
  {
   "cell_type": "markdown",
   "metadata": {},
   "source": [
    "Создадим функцию mean_revenue с встроенной техникой bootstrap, которая будет создавать 1000 выборок целевого признака, каждая из которых будет содержать по 500 значений. Среди этих 500 значений мы будем отбирать 200 с максимальными предсказанными значениями, и рассчитывать прибыль на данном наборе.   "
   ]
  },
  {
   "cell_type": "code",
   "execution_count": 31,
   "metadata": {},
   "outputs": [],
   "source": [
    "def mean_revenue(target_valid, predictions_valid):\n",
    "    state = np.random.RandomState(12345)\n",
    "    values = []\n",
    "    for i in range(1000):\n",
    "        target_subsample = pd.Series(target_valid).reset_index(drop=True).sample(n=500, replace=True, random_state=state)\n",
    "        probs_subsample = pd.Series(predictions_valid)[target_subsample.index]\n",
    "        values.append(revenue(target_subsample,probs_subsample,BOREHOLE_COUNT))\n",
    "    values = pd.Series(values)\n",
    "    lower = values.quantile(0.025)\n",
    "    upper = values.quantile(0.975)\n",
    "    mean = values.mean()\n",
    "    loss = len(values[values < 0])/1000\n",
    "    print(f'Средняя выручка {round(mean,0)} рублей')\n",
    "    print(f\"2,5%-квантиль: {lower}\")\n",
    "    print(f\"97,5%-квантиль: {upper}\")\n",
    "    print(f\"Риск убытка: {loss:.2%}\")\n",
    "    return mean, lower, upper, loss"
   ]
  },
  {
   "cell_type": "markdown",
   "metadata": {},
   "source": [
    "Рассчитаем среднюю выручку, доверительный интервал и риск убытка для первого региона."
   ]
  },
  {
   "cell_type": "code",
   "execution_count": 32,
   "metadata": {},
   "outputs": [
    {
     "name": "stdout",
     "output_type": "stream",
     "text": [
      "Средняя выручка 425938527.0 рублей\n",
      "2,5%-квантиль: -102090094.83793654\n",
      "97,5%-квантиль: 947976353.3583689\n",
      "Риск убытка: 6.00%\n"
     ]
    }
   ],
   "source": [
    "mean_1, lower_1, upper_1, loss_1 = mean_revenue(target_valid_1, predictions_valid_1)"
   ]
  },
  {
   "cell_type": "markdown",
   "metadata": {},
   "source": [
    "Рассчитаем среднюю выручку, доверительный интервал и риск убытка для второго региона."
   ]
  },
  {
   "cell_type": "code",
   "execution_count": 33,
   "metadata": {},
   "outputs": [
    {
     "name": "stdout",
     "output_type": "stream",
     "text": [
      "Средняя выручка 515222773.0 рублей\n",
      "2,5%-квантиль: 68873225.37050176\n",
      "97,5%-квантиль: 931547591.2570494\n",
      "Риск убытка: 1.00%\n"
     ]
    }
   ],
   "source": [
    "mean_2, lower_2, upper_2, loss_2 = mean_revenue(target_valid_2, predictions_valid_2)"
   ]
  },
  {
   "cell_type": "markdown",
   "metadata": {},
   "source": [
    "Рассчитаем среднюю выручку, доверительный интервал и риск убытка для третьего региона."
   ]
  },
  {
   "cell_type": "code",
   "execution_count": 34,
   "metadata": {},
   "outputs": [
    {
     "name": "stdout",
     "output_type": "stream",
     "text": [
      "Средняя выручка 435008363.0 рублей\n",
      "2,5%-квантиль: -128880547.32978901\n",
      "97,5%-квантиль: 969706954.1802661\n",
      "Риск убытка: 6.40%\n"
     ]
    }
   ],
   "source": [
    "mean_3, lower_3, upper_3, loss_3 = mean_revenue(target_valid_3, predictions_valid_3)"
   ]
  },
  {
   "cell_type": "markdown",
   "metadata": {},
   "source": [
    "Вывод: таким образом, для разработки скважин наиболее всего подходит  второй регион, поскольку в данном регионе мы получили максимальную среднюю выручку - более 515 млн. рублей, также риск отрицательной прибыли в данном регионе тоже минимальный - всего 1%.  "
   ]
  },
  {
   "cell_type": "markdown",
   "metadata": {},
   "source": [
    "Общий вывод: в данном проекте нами в данном проекте нами были произведены следующие действия:\n",
    "- подготовлены данные для построения модели машинного обучения:\n",
    "    - проверены данные на наличие дубликатов;\n",
    "    - удалены столбцы, невлияющие на значение целевого признака;\n",
    "    - изучена корреляция признаков (сильная корреляция отсутствует);\n",
    "    - данные разделены на обучающую, валидационную выборки в соотношении 3:1;\n",
    "- для трех регионов обучены модели на алгоритме линейной регрессии, найдены средние запасы предсказанного сырья и значения метрики RSME . Максимальные значения среднего запаса предсказанного сырья (94.97) и метрики RSME (40.03) мы наблюдаем в регионе 3. Минимальные значения среднего запаса предсказанного сырья (68.73) и метрики RSME (0.89) в регионе 2, это значит, что модель линейной регрессии лучше всего работает на данных второго региона. \n",
    "- рассчитан достаточный объём сырья для безубыточной разработки новой скважины 111.11 тыс. баррелей;\n",
    "- найдены средняя выручка, доверительный интервал и риск убытка для трех регионов. Лучшие показатели у 2 региона: средняя выручка более 515 млн. рублей, доверительный интервал не содержит отрицательной прибыли, риск убытков - 1%, что удовлетворяет техническому заданию (меньше 2,5%) .\n",
    "\n",
    "Рекомендации: с целью получения максимальной прибыли и минимизации убытков рекомендовано разрабатывать месторождения второго региона. \n"
   ]
  },
  {
   "cell_type": "code",
   "execution_count": null,
   "metadata": {},
   "outputs": [],
   "source": []
  }
 ],
 "metadata": {
  "ExecuteTimeLog": [
   {
    "duration": 1593,
    "start_time": "2023-04-26T08:23:44.667Z"
   },
   {
    "duration": 162,
    "start_time": "2023-04-26T08:24:31.826Z"
   },
   {
    "duration": 1824,
    "start_time": "2023-04-26T08:25:27.149Z"
   },
   {
    "duration": 5,
    "start_time": "2023-04-26T08:29:14.280Z"
   },
   {
    "duration": 422,
    "start_time": "2023-04-26T08:29:16.827Z"
   },
   {
    "duration": 4,
    "start_time": "2023-04-26T08:31:33.337Z"
   },
   {
    "duration": 162,
    "start_time": "2023-04-26T08:32:45.709Z"
   },
   {
    "duration": 150,
    "start_time": "2023-04-26T08:33:28.512Z"
   },
   {
    "duration": 156,
    "start_time": "2023-04-26T08:34:34.467Z"
   },
   {
    "duration": 177,
    "start_time": "2023-04-26T08:36:00.163Z"
   },
   {
    "duration": 171,
    "start_time": "2023-04-26T08:36:23.999Z"
   },
   {
    "duration": 12,
    "start_time": "2023-04-26T08:42:25.614Z"
   },
   {
    "duration": 13,
    "start_time": "2023-04-26T08:44:20.046Z"
   },
   {
    "duration": 3,
    "start_time": "2023-04-26T08:44:26.728Z"
   },
   {
    "duration": 150,
    "start_time": "2023-04-26T08:44:27.205Z"
   },
   {
    "duration": 160,
    "start_time": "2023-04-26T08:45:07.522Z"
   },
   {
    "duration": 144,
    "start_time": "2023-04-26T08:48:02.097Z"
   },
   {
    "duration": 137,
    "start_time": "2023-04-26T08:48:13.534Z"
   },
   {
    "duration": 130,
    "start_time": "2023-04-26T08:48:58.398Z"
   },
   {
    "duration": 11,
    "start_time": "2023-04-26T08:54:38.781Z"
   },
   {
    "duration": 9,
    "start_time": "2023-04-26T08:55:39.596Z"
   },
   {
    "duration": 1043,
    "start_time": "2023-04-26T08:56:22.701Z"
   },
   {
    "duration": 988,
    "start_time": "2023-04-26T08:56:33.468Z"
   },
   {
    "duration": 993,
    "start_time": "2023-04-26T08:57:21.426Z"
   },
   {
    "duration": 25,
    "start_time": "2023-04-26T09:10:32.879Z"
   },
   {
    "duration": 18,
    "start_time": "2023-04-26T09:11:18.994Z"
   },
   {
    "duration": 18,
    "start_time": "2023-04-26T09:11:38.971Z"
   },
   {
    "duration": 92,
    "start_time": "2023-04-26T09:18:17.715Z"
   },
   {
    "duration": 76,
    "start_time": "2023-04-26T09:18:32.741Z"
   },
   {
    "duration": 57,
    "start_time": "2023-04-26T09:18:37.630Z"
   },
   {
    "duration": 64,
    "start_time": "2023-04-26T09:18:42.397Z"
   },
   {
    "duration": 61,
    "start_time": "2023-04-26T09:18:47.629Z"
   },
   {
    "duration": 8,
    "start_time": "2023-04-26T09:19:48.218Z"
   },
   {
    "duration": 13,
    "start_time": "2023-04-26T09:20:02.660Z"
   },
   {
    "duration": 14,
    "start_time": "2023-04-26T09:20:42.468Z"
   },
   {
    "duration": 18,
    "start_time": "2023-04-26T09:21:31.161Z"
   },
   {
    "duration": 1821,
    "start_time": "2023-04-26T16:31:27.087Z"
   },
   {
    "duration": 678,
    "start_time": "2023-04-26T16:31:28.911Z"
   },
   {
    "duration": 3,
    "start_time": "2023-04-26T16:31:31.434Z"
   },
   {
    "duration": 164,
    "start_time": "2023-04-26T16:31:31.844Z"
   },
   {
    "duration": 143,
    "start_time": "2023-04-26T16:31:33.212Z"
   },
   {
    "duration": 6,
    "start_time": "2023-04-26T16:31:34.533Z"
   },
   {
    "duration": 895,
    "start_time": "2023-04-26T16:31:48.030Z"
   },
   {
    "duration": 982,
    "start_time": "2023-04-26T16:31:56.727Z"
   },
   {
    "duration": 5,
    "start_time": "2023-04-26T16:40:01.512Z"
   },
   {
    "duration": 7,
    "start_time": "2023-04-26T16:40:19.852Z"
   },
   {
    "duration": 7,
    "start_time": "2023-04-26T16:40:34.079Z"
   },
   {
    "duration": 19,
    "start_time": "2023-04-26T16:44:38.083Z"
   },
   {
    "duration": 19,
    "start_time": "2023-04-26T16:44:38.819Z"
   },
   {
    "duration": 29,
    "start_time": "2023-04-26T16:45:46.018Z"
   },
   {
    "duration": 22,
    "start_time": "2023-04-26T16:46:02.701Z"
   },
   {
    "duration": 4,
    "start_time": "2023-04-26T16:47:56.370Z"
   },
   {
    "duration": 60,
    "start_time": "2023-04-26T16:53:19.396Z"
   },
   {
    "duration": 14,
    "start_time": "2023-04-26T16:53:52.649Z"
   },
   {
    "duration": 124,
    "start_time": "2023-04-26T17:07:17.539Z"
   },
   {
    "duration": 1580,
    "start_time": "2023-04-27T06:50:55.681Z"
   },
   {
    "duration": 1732,
    "start_time": "2023-04-27T06:50:59.404Z"
   },
   {
    "duration": 3,
    "start_time": "2023-04-27T06:51:03.155Z"
   },
   {
    "duration": 133,
    "start_time": "2023-04-27T06:51:24.576Z"
   },
   {
    "duration": 120,
    "start_time": "2023-04-27T06:51:29.219Z"
   },
   {
    "duration": 5,
    "start_time": "2023-04-27T06:52:16.540Z"
   },
   {
    "duration": 123,
    "start_time": "2023-04-27T06:52:36.728Z"
   },
   {
    "duration": 13,
    "start_time": "2023-04-27T06:53:02.170Z"
   },
   {
    "duration": 4,
    "start_time": "2023-04-27T06:53:06.646Z"
   },
   {
    "duration": 373,
    "start_time": "2023-04-27T06:53:07.538Z"
   },
   {
    "duration": 8,
    "start_time": "2023-04-27T06:53:08.545Z"
   },
   {
    "duration": 127,
    "start_time": "2023-04-27T06:53:09.601Z"
   },
   {
    "duration": 123,
    "start_time": "2023-04-27T06:53:11.185Z"
   },
   {
    "duration": 4,
    "start_time": "2023-04-27T06:53:14.311Z"
   },
   {
    "duration": 10,
    "start_time": "2023-04-27T06:53:16.422Z"
   },
   {
    "duration": 15,
    "start_time": "2023-04-27T06:53:47.945Z"
   },
   {
    "duration": 4,
    "start_time": "2023-04-27T06:53:55.622Z"
   },
   {
    "duration": 371,
    "start_time": "2023-04-27T06:53:56.480Z"
   },
   {
    "duration": 6,
    "start_time": "2023-04-27T06:53:57.308Z"
   },
   {
    "duration": 119,
    "start_time": "2023-04-27T06:53:57.978Z"
   },
   {
    "duration": 118,
    "start_time": "2023-04-27T06:53:59.281Z"
   },
   {
    "duration": 7,
    "start_time": "2023-04-27T06:54:00.812Z"
   },
   {
    "duration": 7,
    "start_time": "2023-04-27T06:54:03.378Z"
   },
   {
    "duration": 917,
    "start_time": "2023-04-27T06:54:13.162Z"
   },
   {
    "duration": 4,
    "start_time": "2023-04-27T06:55:09.662Z"
   },
   {
    "duration": 5,
    "start_time": "2023-04-27T06:55:10.176Z"
   },
   {
    "duration": 5,
    "start_time": "2023-04-27T06:55:10.859Z"
   },
   {
    "duration": 10,
    "start_time": "2023-04-27T06:59:37.531Z"
   },
   {
    "duration": 2,
    "start_time": "2023-04-27T06:59:44.515Z"
   },
   {
    "duration": 6,
    "start_time": "2023-04-27T06:59:45.067Z"
   },
   {
    "duration": 7,
    "start_time": "2023-04-27T07:00:22.698Z"
   },
   {
    "duration": 4,
    "start_time": "2023-04-27T07:02:18.889Z"
   },
   {
    "duration": 14,
    "start_time": "2023-04-27T07:02:47.100Z"
   },
   {
    "duration": 18,
    "start_time": "2023-04-27T07:03:26.567Z"
   },
   {
    "duration": 14,
    "start_time": "2023-04-27T07:03:29.404Z"
   },
   {
    "duration": 5,
    "start_time": "2023-04-27T07:03:35.460Z"
   },
   {
    "duration": 31,
    "start_time": "2023-04-27T07:03:48.661Z"
   },
   {
    "duration": 29,
    "start_time": "2023-04-27T07:04:54.589Z"
   },
   {
    "duration": 41,
    "start_time": "2023-04-27T07:05:25.428Z"
   },
   {
    "duration": 11,
    "start_time": "2023-04-27T07:05:31.977Z"
   },
   {
    "duration": 9,
    "start_time": "2023-04-27T07:05:37.176Z"
   },
   {
    "duration": 80,
    "start_time": "2023-04-27T07:07:14.314Z"
   },
   {
    "duration": 9,
    "start_time": "2023-04-27T07:15:50.805Z"
   },
   {
    "duration": 4,
    "start_time": "2023-04-27T07:15:53.790Z"
   },
   {
    "duration": 13,
    "start_time": "2023-04-27T07:15:54.386Z"
   },
   {
    "duration": 13,
    "start_time": "2023-04-27T07:16:26.873Z"
   },
   {
    "duration": 18,
    "start_time": "2023-04-27T07:17:07.002Z"
   },
   {
    "duration": 14,
    "start_time": "2023-04-27T07:17:30.641Z"
   },
   {
    "duration": 15,
    "start_time": "2023-04-27T07:18:02.870Z"
   },
   {
    "duration": 1459,
    "start_time": "2023-04-28T07:04:10.601Z"
   },
   {
    "duration": 1879,
    "start_time": "2023-04-28T07:04:13.446Z"
   },
   {
    "duration": 3,
    "start_time": "2023-04-28T07:04:16.099Z"
   },
   {
    "duration": 116,
    "start_time": "2023-04-28T07:04:19.999Z"
   },
   {
    "duration": 144,
    "start_time": "2023-04-28T07:04:23.030Z"
   },
   {
    "duration": 9,
    "start_time": "2023-04-28T07:04:24.221Z"
   },
   {
    "duration": 914,
    "start_time": "2023-04-28T07:04:25.552Z"
   },
   {
    "duration": 4,
    "start_time": "2023-04-28T07:04:30.158Z"
   },
   {
    "duration": 10,
    "start_time": "2023-04-28T07:04:30.768Z"
   },
   {
    "duration": 4,
    "start_time": "2023-04-28T07:04:33.446Z"
   },
   {
    "duration": 13,
    "start_time": "2023-04-28T07:04:34.600Z"
   },
   {
    "duration": 14,
    "start_time": "2023-04-28T07:04:35.753Z"
   },
   {
    "duration": 13,
    "start_time": "2023-04-28T07:04:36.262Z"
   },
   {
    "duration": 4,
    "start_time": "2023-04-28T07:04:37.719Z"
   },
   {
    "duration": 40,
    "start_time": "2023-04-28T07:04:41.175Z"
   },
   {
    "duration": 3,
    "start_time": "2023-04-28T07:04:58.576Z"
   },
   {
    "duration": 21,
    "start_time": "2023-04-28T07:04:59.368Z"
   },
   {
    "duration": 13,
    "start_time": "2023-04-28T07:05:27.390Z"
   },
   {
    "duration": 13,
    "start_time": "2023-04-28T07:05:29.450Z"
   },
   {
    "duration": 108,
    "start_time": "2023-04-28T07:18:47.532Z"
   },
   {
    "duration": 6,
    "start_time": "2023-04-28T07:18:50.459Z"
   },
   {
    "duration": 3,
    "start_time": "2023-04-28T07:18:51.139Z"
   },
   {
    "duration": 4,
    "start_time": "2023-04-28T07:19:10.925Z"
   },
   {
    "duration": 5,
    "start_time": "2023-04-28T07:19:41.542Z"
   },
   {
    "duration": 3,
    "start_time": "2023-04-28T07:28:33.346Z"
   },
   {
    "duration": 401,
    "start_time": "2023-04-28T07:28:34.351Z"
   },
   {
    "duration": 6,
    "start_time": "2023-04-28T07:28:35.001Z"
   },
   {
    "duration": 116,
    "start_time": "2023-04-28T07:28:35.240Z"
   },
   {
    "duration": 113,
    "start_time": "2023-04-28T07:28:35.984Z"
   },
   {
    "duration": 9,
    "start_time": "2023-04-28T07:28:36.662Z"
   },
   {
    "duration": 1014,
    "start_time": "2023-04-28T07:28:37.144Z"
   },
   {
    "duration": 4,
    "start_time": "2023-04-28T07:28:38.351Z"
   },
   {
    "duration": 7,
    "start_time": "2023-04-28T07:28:38.777Z"
   },
   {
    "duration": 3,
    "start_time": "2023-04-28T07:28:39.477Z"
   },
   {
    "duration": 10,
    "start_time": "2023-04-28T07:28:39.720Z"
   },
   {
    "duration": 11,
    "start_time": "2023-04-28T07:28:40.001Z"
   },
   {
    "duration": 11,
    "start_time": "2023-04-28T07:28:40.342Z"
   },
   {
    "duration": 3,
    "start_time": "2023-04-28T07:28:40.968Z"
   },
   {
    "duration": 40,
    "start_time": "2023-04-28T07:28:41.655Z"
   },
   {
    "duration": 4,
    "start_time": "2023-04-28T07:28:42.447Z"
   },
   {
    "duration": 20,
    "start_time": "2023-04-28T07:28:43.017Z"
   },
   {
    "duration": 12,
    "start_time": "2023-04-28T07:28:43.679Z"
   },
   {
    "duration": 13,
    "start_time": "2023-04-28T07:28:49.801Z"
   },
   {
    "duration": 14,
    "start_time": "2023-04-28T07:29:04.842Z"
   },
   {
    "duration": 16,
    "start_time": "2023-04-28T07:29:05.737Z"
   },
   {
    "duration": 13,
    "start_time": "2023-04-28T07:29:07.176Z"
   },
   {
    "duration": 2,
    "start_time": "2023-04-28T07:29:10.250Z"
   },
   {
    "duration": 3,
    "start_time": "2023-04-28T07:30:33.663Z"
   },
   {
    "duration": 3,
    "start_time": "2023-04-28T07:30:50.539Z"
   },
   {
    "duration": 3,
    "start_time": "2023-04-28T07:34:48.480Z"
   },
   {
    "duration": 10,
    "start_time": "2023-04-28T07:38:10.365Z"
   },
   {
    "duration": 4,
    "start_time": "2023-04-28T07:38:49.381Z"
   },
   {
    "duration": 334,
    "start_time": "2023-04-28T07:38:50.445Z"
   },
   {
    "duration": 6,
    "start_time": "2023-04-28T07:38:50.933Z"
   },
   {
    "duration": 116,
    "start_time": "2023-04-28T07:38:51.150Z"
   },
   {
    "duration": 117,
    "start_time": "2023-04-28T07:38:51.669Z"
   },
   {
    "duration": 9,
    "start_time": "2023-04-28T07:38:52.213Z"
   },
   {
    "duration": 882,
    "start_time": "2023-04-28T07:38:52.637Z"
   },
   {
    "duration": 2,
    "start_time": "2023-04-28T07:38:53.521Z"
   },
   {
    "duration": 7,
    "start_time": "2023-04-28T07:38:53.604Z"
   },
   {
    "duration": 3,
    "start_time": "2023-04-28T07:38:54.372Z"
   },
   {
    "duration": 9,
    "start_time": "2023-04-28T07:38:54.771Z"
   },
   {
    "duration": 10,
    "start_time": "2023-04-28T07:38:55.118Z"
   },
   {
    "duration": 9,
    "start_time": "2023-04-28T07:38:55.566Z"
   },
   {
    "duration": 4,
    "start_time": "2023-04-28T07:38:56.181Z"
   },
   {
    "duration": 40,
    "start_time": "2023-04-28T07:38:56.701Z"
   },
   {
    "duration": 4,
    "start_time": "2023-04-28T07:38:57.565Z"
   },
   {
    "duration": 13,
    "start_time": "2023-04-28T07:38:57.925Z"
   },
   {
    "duration": 13,
    "start_time": "2023-04-28T07:38:58.357Z"
   },
   {
    "duration": 18,
    "start_time": "2023-04-28T07:38:58.669Z"
   },
   {
    "duration": 2,
    "start_time": "2023-04-28T07:38:59.717Z"
   },
   {
    "duration": 3,
    "start_time": "2023-04-28T07:39:00.214Z"
   },
   {
    "duration": 3,
    "start_time": "2023-04-28T07:39:00.453Z"
   },
   {
    "duration": 3,
    "start_time": "2023-04-28T07:39:01.778Z"
   },
   {
    "duration": 12,
    "start_time": "2023-04-28T07:39:02.136Z"
   },
   {
    "duration": 5,
    "start_time": "2023-04-28T07:41:49.108Z"
   },
   {
    "duration": 10,
    "start_time": "2023-04-28T07:43:29.142Z"
   },
   {
    "duration": 3,
    "start_time": "2023-04-28T07:43:50.551Z"
   },
   {
    "duration": 11,
    "start_time": "2023-04-28T07:44:05.929Z"
   },
   {
    "duration": 6,
    "start_time": "2023-04-28T07:47:33.913Z"
   },
   {
    "duration": 6,
    "start_time": "2023-04-28T07:47:46.646Z"
   },
   {
    "duration": 4,
    "start_time": "2023-04-28T07:48:22.231Z"
   },
   {
    "duration": 29,
    "start_time": "2023-04-28T07:48:23.737Z"
   },
   {
    "duration": 4,
    "start_time": "2023-04-28T07:48:57.499Z"
   },
   {
    "duration": 3,
    "start_time": "2023-04-28T07:48:58.066Z"
   },
   {
    "duration": 20,
    "start_time": "2023-04-28T07:49:03.155Z"
   },
   {
    "duration": 4,
    "start_time": "2023-04-28T07:49:46.535Z"
   },
   {
    "duration": 8,
    "start_time": "2023-04-28T07:53:44.070Z"
   },
   {
    "duration": 17,
    "start_time": "2023-04-28T07:54:12.981Z"
   },
   {
    "duration": 12,
    "start_time": "2023-04-28T07:54:31.509Z"
   },
   {
    "duration": 12,
    "start_time": "2023-04-28T07:54:38.178Z"
   },
   {
    "duration": 3,
    "start_time": "2023-04-28T07:54:51.779Z"
   },
   {
    "duration": 352,
    "start_time": "2023-04-28T07:54:52.504Z"
   },
   {
    "duration": 8,
    "start_time": "2023-04-28T07:54:52.959Z"
   },
   {
    "duration": 116,
    "start_time": "2023-04-28T07:54:53.172Z"
   },
   {
    "duration": 155,
    "start_time": "2023-04-28T07:54:53.839Z"
   },
   {
    "duration": 7,
    "start_time": "2023-04-28T07:54:54.296Z"
   },
   {
    "duration": 840,
    "start_time": "2023-04-28T07:54:54.689Z"
   },
   {
    "duration": 3,
    "start_time": "2023-04-28T07:54:55.531Z"
   },
   {
    "duration": 23,
    "start_time": "2023-04-28T07:54:55.535Z"
   },
   {
    "duration": 3,
    "start_time": "2023-04-28T07:54:55.969Z"
   },
   {
    "duration": 9,
    "start_time": "2023-04-28T07:54:56.215Z"
   },
   {
    "duration": 11,
    "start_time": "2023-04-28T07:54:56.430Z"
   },
   {
    "duration": 10,
    "start_time": "2023-04-28T07:54:56.698Z"
   },
   {
    "duration": 4,
    "start_time": "2023-04-28T07:54:57.371Z"
   },
   {
    "duration": 38,
    "start_time": "2023-04-28T07:54:57.777Z"
   },
   {
    "duration": 4,
    "start_time": "2023-04-28T07:54:58.543Z"
   },
   {
    "duration": 114,
    "start_time": "2023-04-28T07:54:58.747Z"
   },
   {
    "duration": 19,
    "start_time": "2023-04-28T07:54:59.031Z"
   },
   {
    "duration": 15,
    "start_time": "2023-04-28T07:54:59.554Z"
   },
   {
    "duration": 3,
    "start_time": "2023-04-28T07:55:00.907Z"
   },
   {
    "duration": 4,
    "start_time": "2023-04-28T07:55:01.505Z"
   },
   {
    "duration": 4,
    "start_time": "2023-04-28T07:55:02.025Z"
   },
   {
    "duration": 3,
    "start_time": "2023-04-28T07:55:04.177Z"
   },
   {
    "duration": 7,
    "start_time": "2023-04-28T07:55:05.058Z"
   },
   {
    "duration": 1367,
    "start_time": "2023-04-28T07:55:10.050Z"
   },
   {
    "duration": 1487,
    "start_time": "2023-04-28T07:55:59.335Z"
   },
   {
    "duration": 1450,
    "start_time": "2023-04-28T08:01:58.298Z"
   },
   {
    "duration": 1537,
    "start_time": "2023-04-28T08:02:16.659Z"
   },
   {
    "duration": 4,
    "start_time": "2023-04-28T08:03:07.457Z"
   },
   {
    "duration": 4,
    "start_time": "2023-04-28T08:03:29.010Z"
   },
   {
    "duration": 1581,
    "start_time": "2023-04-28T08:05:03.246Z"
   },
   {
    "duration": 1515,
    "start_time": "2023-04-28T08:06:38.651Z"
   },
   {
    "duration": 1429,
    "start_time": "2023-04-28T08:06:54.623Z"
   },
   {
    "duration": 4,
    "start_time": "2023-04-28T08:08:08.768Z"
   },
   {
    "duration": 5,
    "start_time": "2023-04-28T08:13:38.350Z"
   },
   {
    "duration": 5,
    "start_time": "2023-04-28T08:13:46.106Z"
   },
   {
    "duration": 5,
    "start_time": "2023-04-28T08:14:13.739Z"
   },
   {
    "duration": 5,
    "start_time": "2023-04-28T08:16:42.505Z"
   },
   {
    "duration": 6,
    "start_time": "2023-04-28T08:16:51.274Z"
   },
   {
    "duration": 6,
    "start_time": "2023-04-28T08:17:02.642Z"
   },
   {
    "duration": 6,
    "start_time": "2023-04-28T08:17:26.512Z"
   },
   {
    "duration": 5,
    "start_time": "2023-04-28T08:17:32.747Z"
   },
   {
    "duration": 1758,
    "start_time": "2023-05-02T06:13:38.153Z"
   },
   {
    "duration": 987,
    "start_time": "2023-05-02T06:13:39.913Z"
   },
   {
    "duration": 4,
    "start_time": "2023-05-02T06:13:40.902Z"
   },
   {
    "duration": 139,
    "start_time": "2023-05-02T06:13:41.790Z"
   },
   {
    "duration": 140,
    "start_time": "2023-05-02T06:14:16.380Z"
   },
   {
    "duration": 141,
    "start_time": "2023-05-02T06:14:46.446Z"
   },
   {
    "duration": 12,
    "start_time": "2023-05-02T06:14:49.443Z"
   },
   {
    "duration": 965,
    "start_time": "2023-05-02T06:14:51.708Z"
   },
   {
    "duration": 147,
    "start_time": "2023-05-02T06:15:37.847Z"
   },
   {
    "duration": 165,
    "start_time": "2023-05-02T06:15:54.390Z"
   },
   {
    "duration": 163,
    "start_time": "2023-05-02T06:16:12.891Z"
   },
   {
    "duration": 140,
    "start_time": "2023-05-02T06:16:38.886Z"
   },
   {
    "duration": 132,
    "start_time": "2023-05-02T06:16:53.127Z"
   },
   {
    "duration": 124,
    "start_time": "2023-05-02T06:16:58.206Z"
   },
   {
    "duration": 3,
    "start_time": "2023-05-02T06:17:12.088Z"
   },
   {
    "duration": 12,
    "start_time": "2023-05-02T06:17:13.815Z"
   },
   {
    "duration": 3,
    "start_time": "2023-05-02T06:17:16.644Z"
   },
   {
    "duration": 13,
    "start_time": "2023-05-02T06:17:17.800Z"
   },
   {
    "duration": 14,
    "start_time": "2023-05-02T06:17:18.892Z"
   },
   {
    "duration": 12,
    "start_time": "2023-05-02T06:17:19.560Z"
   },
   {
    "duration": 5,
    "start_time": "2023-05-02T06:17:21.408Z"
   },
   {
    "duration": 46,
    "start_time": "2023-05-02T06:17:24.309Z"
   },
   {
    "duration": 4,
    "start_time": "2023-05-02T06:17:30.332Z"
   },
   {
    "duration": 20,
    "start_time": "2023-05-02T06:17:32.260Z"
   },
   {
    "duration": 4,
    "start_time": "2023-05-02T06:17:56.604Z"
   },
   {
    "duration": 343,
    "start_time": "2023-05-02T06:17:57.688Z"
   },
   {
    "duration": 3,
    "start_time": "2023-05-02T06:17:58.329Z"
   },
   {
    "duration": 131,
    "start_time": "2023-05-02T06:17:58.685Z"
   },
   {
    "duration": 108,
    "start_time": "2023-05-02T06:17:59.602Z"
   },
   {
    "duration": 8,
    "start_time": "2023-05-02T06:18:00.456Z"
   },
   {
    "duration": 892,
    "start_time": "2023-05-02T06:18:01.302Z"
   },
   {
    "duration": 146,
    "start_time": "2023-05-02T06:18:02.543Z"
   },
   {
    "duration": 355,
    "start_time": "2023-05-02T06:18:03.544Z"
   },
   {
    "duration": 133,
    "start_time": "2023-05-02T06:18:04.143Z"
   },
   {
    "duration": 3,
    "start_time": "2023-05-02T06:18:05.741Z"
   },
   {
    "duration": 6,
    "start_time": "2023-05-02T06:18:06.112Z"
   },
   {
    "duration": 3,
    "start_time": "2023-05-02T06:18:06.719Z"
   },
   {
    "duration": 14,
    "start_time": "2023-05-02T06:18:07.081Z"
   },
   {
    "duration": 14,
    "start_time": "2023-05-02T06:18:07.449Z"
   },
   {
    "duration": 11,
    "start_time": "2023-05-02T06:18:07.890Z"
   },
   {
    "duration": 3,
    "start_time": "2023-05-02T06:18:08.887Z"
   },
   {
    "duration": 3,
    "start_time": "2023-05-02T06:18:11.714Z"
   },
   {
    "duration": 14,
    "start_time": "2023-05-02T06:18:13.031Z"
   },
   {
    "duration": 12,
    "start_time": "2023-05-02T06:18:14.559Z"
   },
   {
    "duration": 14,
    "start_time": "2023-05-02T06:18:16.304Z"
   },
   {
    "duration": 3,
    "start_time": "2023-05-02T06:18:21.935Z"
   },
   {
    "duration": 3,
    "start_time": "2023-05-02T06:18:24.587Z"
   },
   {
    "duration": 4,
    "start_time": "2023-05-02T06:18:27.119Z"
   },
   {
    "duration": 3,
    "start_time": "2023-05-02T06:18:40.970Z"
   },
   {
    "duration": 4,
    "start_time": "2023-05-02T06:18:47.348Z"
   },
   {
    "duration": 3,
    "start_time": "2023-05-02T06:18:48.233Z"
   },
   {
    "duration": 4,
    "start_time": "2023-05-02T06:18:49.081Z"
   },
   {
    "duration": 3,
    "start_time": "2023-05-02T06:18:49.540Z"
   },
   {
    "duration": 1638,
    "start_time": "2023-05-02T06:18:57.545Z"
   },
   {
    "duration": 7,
    "start_time": "2023-05-02T06:19:03.510Z"
   },
   {
    "duration": 3,
    "start_time": "2023-05-02T06:40:34.588Z"
   },
   {
    "duration": 3,
    "start_time": "2023-05-02T06:40:39.051Z"
   },
   {
    "duration": 14,
    "start_time": "2023-05-02T06:40:39.590Z"
   },
   {
    "duration": 4,
    "start_time": "2023-05-02T06:40:40.070Z"
   },
   {
    "duration": 1401,
    "start_time": "2023-05-02T06:40:41.187Z"
   },
   {
    "duration": 5,
    "start_time": "2023-05-02T06:41:06.726Z"
   },
   {
    "duration": 5,
    "start_time": "2023-05-02T06:41:16.570Z"
   },
   {
    "duration": 1420,
    "start_time": "2023-05-02T06:41:27.487Z"
   },
   {
    "duration": 5,
    "start_time": "2023-05-02T06:41:35.657Z"
   },
   {
    "duration": 5,
    "start_time": "2023-05-02T06:48:23.389Z"
   },
   {
    "duration": 5,
    "start_time": "2023-05-02T06:50:14.818Z"
   },
   {
    "duration": 1548,
    "start_time": "2023-05-02T06:50:57.988Z"
   },
   {
    "duration": 4,
    "start_time": "2023-05-02T06:52:30.527Z"
   },
   {
    "duration": 1556,
    "start_time": "2023-05-02T06:52:32.425Z"
   },
   {
    "duration": 1747,
    "start_time": "2023-05-02T06:53:37.353Z"
   },
   {
    "duration": 7,
    "start_time": "2023-05-02T06:53:45.219Z"
   },
   {
    "duration": 1706,
    "start_time": "2023-05-02T06:53:45.890Z"
   },
   {
    "duration": 4,
    "start_time": "2023-05-02T06:54:27.764Z"
   },
   {
    "duration": 6,
    "start_time": "2023-05-02T06:55:27.289Z"
   },
   {
    "duration": 1548,
    "start_time": "2023-05-02T06:55:28.328Z"
   },
   {
    "duration": 3,
    "start_time": "2023-05-02T06:55:29.878Z"
   },
   {
    "duration": 2,
    "start_time": "2023-05-02T06:55:39.319Z"
   },
   {
    "duration": 4,
    "start_time": "2023-05-02T06:56:04.687Z"
   },
   {
    "duration": 3,
    "start_time": "2023-05-02T06:57:10.169Z"
   },
   {
    "duration": 364,
    "start_time": "2023-05-02T06:57:11.188Z"
   },
   {
    "duration": 2,
    "start_time": "2023-05-02T06:57:12.024Z"
   },
   {
    "duration": 127,
    "start_time": "2023-05-02T06:57:12.638Z"
   },
   {
    "duration": 124,
    "start_time": "2023-05-02T06:57:13.679Z"
   },
   {
    "duration": 10,
    "start_time": "2023-05-02T06:57:14.623Z"
   },
   {
    "duration": 857,
    "start_time": "2023-05-02T06:57:15.517Z"
   },
   {
    "duration": 368,
    "start_time": "2023-05-02T06:57:16.654Z"
   },
   {
    "duration": 122,
    "start_time": "2023-05-02T06:57:17.826Z"
   },
   {
    "duration": 128,
    "start_time": "2023-05-02T06:57:18.742Z"
   },
   {
    "duration": 3,
    "start_time": "2023-05-02T06:57:20.127Z"
   },
   {
    "duration": 9,
    "start_time": "2023-05-02T06:57:20.680Z"
   },
   {
    "duration": 3,
    "start_time": "2023-05-02T06:57:21.878Z"
   },
   {
    "duration": 11,
    "start_time": "2023-05-02T06:57:22.328Z"
   },
   {
    "duration": 15,
    "start_time": "2023-05-02T06:57:22.790Z"
   },
   {
    "duration": 11,
    "start_time": "2023-05-02T06:57:23.320Z"
   },
   {
    "duration": 5,
    "start_time": "2023-05-02T06:57:24.428Z"
   },
   {
    "duration": 5,
    "start_time": "2023-05-02T06:57:27.488Z"
   },
   {
    "duration": 68,
    "start_time": "2023-05-02T06:57:28.424Z"
   },
   {
    "duration": 14,
    "start_time": "2023-05-02T06:57:29.318Z"
   },
   {
    "duration": 15,
    "start_time": "2023-05-02T06:57:30.250Z"
   },
   {
    "duration": 3,
    "start_time": "2023-05-02T06:57:33.247Z"
   },
   {
    "duration": 4,
    "start_time": "2023-05-02T06:57:34.716Z"
   },
   {
    "duration": 3,
    "start_time": "2023-05-02T06:57:35.355Z"
   },
   {
    "duration": 3,
    "start_time": "2023-05-02T06:57:37.631Z"
   },
   {
    "duration": 4,
    "start_time": "2023-05-02T06:57:40.856Z"
   },
   {
    "duration": 1717,
    "start_time": "2023-05-02T06:57:42.124Z"
   },
   {
    "duration": 3,
    "start_time": "2023-05-02T06:57:43.843Z"
   },
   {
    "duration": 3,
    "start_time": "2023-05-02T07:03:06.156Z"
   },
   {
    "duration": 363,
    "start_time": "2023-05-02T07:03:09.956Z"
   },
   {
    "duration": 8,
    "start_time": "2023-05-02T07:03:21.720Z"
   },
   {
    "duration": 50,
    "start_time": "2023-05-02T07:03:22.885Z"
   },
   {
    "duration": 46,
    "start_time": "2023-05-02T07:03:50.427Z"
   },
   {
    "duration": 48,
    "start_time": "2023-05-02T07:09:12.419Z"
   },
   {
    "duration": 118,
    "start_time": "2023-05-02T07:09:18.914Z"
   },
   {
    "duration": 7,
    "start_time": "2023-05-02T07:09:23.035Z"
   },
   {
    "duration": 844,
    "start_time": "2023-05-02T07:09:30.628Z"
   },
   {
    "duration": 481,
    "start_time": "2023-05-02T07:11:15.788Z"
   },
   {
    "duration": 488,
    "start_time": "2023-05-02T07:12:20.289Z"
   },
   {
    "duration": 713,
    "start_time": "2023-05-02T07:12:53.124Z"
   },
   {
    "duration": 611,
    "start_time": "2023-05-02T07:12:59.034Z"
   },
   {
    "duration": 627,
    "start_time": "2023-05-02T07:13:40.911Z"
   },
   {
    "duration": 598,
    "start_time": "2023-05-02T07:13:51.825Z"
   },
   {
    "duration": 681,
    "start_time": "2023-05-02T07:15:33.132Z"
   },
   {
    "duration": 22,
    "start_time": "2023-05-02T07:23:17.319Z"
   },
   {
    "duration": 15,
    "start_time": "2023-05-02T07:23:29.418Z"
   },
   {
    "duration": 4,
    "start_time": "2023-05-02T07:23:33.819Z"
   },
   {
    "duration": 16,
    "start_time": "2023-05-02T07:23:34.352Z"
   },
   {
    "duration": 4,
    "start_time": "2023-05-02T07:24:09.960Z"
   },
   {
    "duration": 13,
    "start_time": "2023-05-02T07:24:11.812Z"
   },
   {
    "duration": 15,
    "start_time": "2023-05-02T07:26:27.459Z"
   },
   {
    "duration": 13,
    "start_time": "2023-05-02T07:27:01.025Z"
   },
   {
    "duration": 3,
    "start_time": "2023-05-02T07:36:14.319Z"
   },
   {
    "duration": 353,
    "start_time": "2023-05-02T07:36:15.157Z"
   },
   {
    "duration": 7,
    "start_time": "2023-05-02T07:36:16.110Z"
   },
   {
    "duration": 49,
    "start_time": "2023-05-02T07:36:16.535Z"
   },
   {
    "duration": 122,
    "start_time": "2023-05-02T07:36:18.215Z"
   },
   {
    "duration": 8,
    "start_time": "2023-05-02T07:36:19.118Z"
   },
   {
    "duration": 1313,
    "start_time": "2023-05-02T07:36:45.613Z"
   },
   {
    "duration": 48,
    "start_time": "2023-05-03T06:16:50.371Z"
   },
   {
    "duration": 1491,
    "start_time": "2023-05-03T06:16:55.319Z"
   },
   {
    "duration": 1823,
    "start_time": "2023-05-03T06:16:56.812Z"
   },
   {
    "duration": 2,
    "start_time": "2023-05-03T06:17:05.954Z"
   },
   {
    "duration": 41,
    "start_time": "2023-05-03T06:17:07.136Z"
   },
   {
    "duration": 134,
    "start_time": "2023-05-03T06:17:14.554Z"
   },
   {
    "duration": 12,
    "start_time": "2023-05-03T06:17:17.256Z"
   },
   {
    "duration": 950,
    "start_time": "2023-05-03T06:17:22.195Z"
   },
   {
    "duration": 717,
    "start_time": "2023-05-03T06:17:24.939Z"
   },
   {
    "duration": 562,
    "start_time": "2023-05-03T06:22:50.753Z"
   },
   {
    "duration": 3,
    "start_time": "2023-05-03T06:24:37.893Z"
   },
   {
    "duration": 329,
    "start_time": "2023-05-03T06:24:38.950Z"
   },
   {
    "duration": 7,
    "start_time": "2023-05-03T06:24:40.783Z"
   },
   {
    "duration": 55,
    "start_time": "2023-05-03T06:24:41.900Z"
   },
   {
    "duration": 3,
    "start_time": "2023-05-03T06:24:54.285Z"
   },
   {
    "duration": 38,
    "start_time": "2023-05-03T06:24:56.912Z"
   },
   {
    "duration": 103,
    "start_time": "2023-05-03T06:25:03.370Z"
   },
   {
    "duration": 116,
    "start_time": "2023-05-03T06:25:23.632Z"
   },
   {
    "duration": 9,
    "start_time": "2023-05-03T06:25:53.042Z"
   },
   {
    "duration": 853,
    "start_time": "2023-05-03T06:26:07.588Z"
   },
   {
    "duration": 544,
    "start_time": "2023-05-03T06:26:19.173Z"
   },
   {
    "duration": 599,
    "start_time": "2023-05-03T06:26:44.335Z"
   },
   {
    "duration": 894,
    "start_time": "2023-05-03T06:27:33.948Z"
   },
   {
    "duration": 620,
    "start_time": "2023-05-03T06:29:09.191Z"
   },
   {
    "duration": 3,
    "start_time": "2023-05-03T06:30:52.723Z"
   },
   {
    "duration": 9,
    "start_time": "2023-05-03T06:30:53.307Z"
   },
   {
    "duration": 9,
    "start_time": "2023-05-03T06:31:07.882Z"
   },
   {
    "duration": 3,
    "start_time": "2023-05-03T06:31:49.614Z"
   },
   {
    "duration": 13,
    "start_time": "2023-05-03T06:31:50.199Z"
   },
   {
    "duration": 14,
    "start_time": "2023-05-03T06:31:51.695Z"
   },
   {
    "duration": 15,
    "start_time": "2023-05-03T06:31:52.327Z"
   },
   {
    "duration": 4,
    "start_time": "2023-05-03T06:32:18.858Z"
   },
   {
    "duration": 4,
    "start_time": "2023-05-03T06:32:26.907Z"
   },
   {
    "duration": 103,
    "start_time": "2023-05-03T06:32:54.772Z"
   },
   {
    "duration": 11,
    "start_time": "2023-05-03T06:38:03.230Z"
   },
   {
    "duration": 4,
    "start_time": "2023-05-03T06:38:05.749Z"
   },
   {
    "duration": 12,
    "start_time": "2023-05-03T06:38:06.222Z"
   },
   {
    "duration": 5,
    "start_time": "2023-05-03T06:38:47.401Z"
   },
   {
    "duration": 15,
    "start_time": "2023-05-03T06:38:48.257Z"
   },
   {
    "duration": 4,
    "start_time": "2023-05-03T06:39:05.682Z"
   },
   {
    "duration": 11,
    "start_time": "2023-05-03T06:39:06.913Z"
   },
   {
    "duration": 11,
    "start_time": "2023-05-03T06:39:35.276Z"
   },
   {
    "duration": 11,
    "start_time": "2023-05-03T06:40:39.802Z"
   },
   {
    "duration": 81,
    "start_time": "2023-05-03T06:42:08.490Z"
   },
   {
    "duration": 12,
    "start_time": "2023-05-03T06:42:24.059Z"
   },
   {
    "duration": 11,
    "start_time": "2023-05-03T06:42:37.468Z"
   },
   {
    "duration": 4,
    "start_time": "2023-05-03T06:42:59.840Z"
   },
   {
    "duration": 92,
    "start_time": "2023-05-03T06:43:01.245Z"
   },
   {
    "duration": 4,
    "start_time": "2023-05-03T06:43:11.998Z"
   },
   {
    "duration": 30,
    "start_time": "2023-05-03T06:43:12.660Z"
   },
   {
    "duration": 16,
    "start_time": "2023-05-03T06:43:14.557Z"
   },
   {
    "duration": 11,
    "start_time": "2023-05-03T06:43:15.845Z"
   },
   {
    "duration": 4,
    "start_time": "2023-05-03T06:48:42.150Z"
   },
   {
    "duration": 4,
    "start_time": "2023-05-03T06:49:09.212Z"
   },
   {
    "duration": 4,
    "start_time": "2023-05-03T06:49:12.061Z"
   },
   {
    "duration": 4,
    "start_time": "2023-05-03T06:49:12.937Z"
   },
   {
    "duration": 4,
    "start_time": "2023-05-03T06:49:13.404Z"
   },
   {
    "duration": 3,
    "start_time": "2023-05-03T06:49:17.137Z"
   },
   {
    "duration": 6,
    "start_time": "2023-05-03T06:49:20.307Z"
   },
   {
    "duration": 1681,
    "start_time": "2023-05-03T06:49:33.996Z"
   },
   {
    "duration": 12,
    "start_time": "2023-05-03T06:49:37.599Z"
   },
   {
    "duration": 8,
    "start_time": "2023-05-03T06:49:42.933Z"
   },
   {
    "duration": 7,
    "start_time": "2023-05-03T06:53:00.725Z"
   },
   {
    "duration": 1460,
    "start_time": "2023-05-03T06:53:01.366Z"
   },
   {
    "duration": 4,
    "start_time": "2023-05-03T06:53:02.829Z"
   },
   {
    "duration": 9,
    "start_time": "2023-05-03T06:53:30.592Z"
   },
   {
    "duration": 7,
    "start_time": "2023-05-03T06:53:42.279Z"
   },
   {
    "duration": 1269,
    "start_time": "2023-05-03T06:53:43.368Z"
   },
   {
    "duration": 1520,
    "start_time": "2023-05-03T06:54:10.939Z"
   },
   {
    "duration": 1297,
    "start_time": "2023-05-03T06:55:08.616Z"
   },
   {
    "duration": 1435,
    "start_time": "2023-05-03T06:57:25.914Z"
   },
   {
    "duration": 1379,
    "start_time": "2023-05-03T06:58:27.013Z"
   },
   {
    "duration": 1386,
    "start_time": "2023-05-03T06:58:36.314Z"
   },
   {
    "duration": 1291,
    "start_time": "2023-05-03T06:58:43.169Z"
   },
   {
    "duration": 1343,
    "start_time": "2023-05-03T06:59:53.342Z"
   },
   {
    "duration": 1298,
    "start_time": "2023-05-03T07:00:13.416Z"
   },
   {
    "duration": 1389,
    "start_time": "2023-05-03T07:00:34.806Z"
   },
   {
    "duration": 4,
    "start_time": "2023-05-03T07:02:53.836Z"
   },
   {
    "duration": 1373,
    "start_time": "2023-05-03T07:02:57.052Z"
   },
   {
    "duration": 147,
    "start_time": "2023-05-03T07:03:04.590Z"
   },
   {
    "duration": 1338,
    "start_time": "2023-05-03T07:03:10.400Z"
   },
   {
    "duration": 1376,
    "start_time": "2023-05-03T07:03:28.125Z"
   },
   {
    "duration": 4,
    "start_time": "2023-05-03T07:11:54.009Z"
   },
   {
    "duration": 3,
    "start_time": "2023-05-03T07:11:55.008Z"
   },
   {
    "duration": 5,
    "start_time": "2023-05-03T07:11:55.751Z"
   },
   {
    "duration": 3,
    "start_time": "2023-05-03T07:12:03.711Z"
   },
   {
    "duration": 5,
    "start_time": "2023-05-03T07:12:04.904Z"
   },
   {
    "duration": 1576,
    "start_time": "2023-05-03T07:12:05.963Z"
   },
   {
    "duration": 1465,
    "start_time": "2023-05-03T07:12:14.442Z"
   },
   {
    "duration": 1447,
    "start_time": "2023-05-03T07:12:27.251Z"
   },
   {
    "duration": 1182,
    "start_time": "2023-05-03T07:53:35.926Z"
   },
   {
    "duration": 781,
    "start_time": "2023-05-03T07:53:37.235Z"
   },
   {
    "duration": 112,
    "start_time": "2023-05-03T07:54:59.556Z"
   },
   {
    "duration": 99,
    "start_time": "2023-05-03T07:55:19.267Z"
   },
   {
    "duration": 4,
    "start_time": "2023-05-03T08:05:38.224Z"
   },
   {
    "duration": 357,
    "start_time": "2023-05-03T08:05:39.224Z"
   },
   {
    "duration": 11,
    "start_time": "2023-05-03T08:05:40.068Z"
   },
   {
    "duration": 54,
    "start_time": "2023-05-03T08:05:40.611Z"
   },
   {
    "duration": 133,
    "start_time": "2023-05-03T08:05:42.229Z"
   },
   {
    "duration": 14,
    "start_time": "2023-05-03T08:05:43.133Z"
   },
   {
    "duration": 1030,
    "start_time": "2023-05-03T08:05:44.133Z"
   },
   {
    "duration": 638,
    "start_time": "2023-05-03T08:05:46.592Z"
   },
   {
    "duration": 3,
    "start_time": "2023-05-03T08:05:49.494Z"
   },
   {
    "duration": 9,
    "start_time": "2023-05-03T08:05:50.439Z"
   },
   {
    "duration": 4,
    "start_time": "2023-05-03T08:05:51.349Z"
   },
   {
    "duration": 19,
    "start_time": "2023-05-03T08:05:51.862Z"
   },
   {
    "duration": 22,
    "start_time": "2023-05-03T08:05:54.167Z"
   },
   {
    "duration": 10,
    "start_time": "2023-05-03T08:05:54.742Z"
   },
   {
    "duration": 5,
    "start_time": "2023-05-03T08:05:55.615Z"
   },
   {
    "duration": 4,
    "start_time": "2023-05-03T08:05:57.910Z"
   },
   {
    "duration": 84,
    "start_time": "2023-05-03T08:05:58.496Z"
   },
   {
    "duration": 41,
    "start_time": "2023-05-03T08:05:59.952Z"
   },
   {
    "duration": 18,
    "start_time": "2023-05-03T08:06:01.151Z"
   },
   {
    "duration": 3,
    "start_time": "2023-05-03T08:06:05.030Z"
   },
   {
    "duration": 5,
    "start_time": "2023-05-03T08:06:05.959Z"
   },
   {
    "duration": 6,
    "start_time": "2023-05-03T08:06:06.501Z"
   },
   {
    "duration": 4,
    "start_time": "2023-05-03T08:08:21.559Z"
   },
   {
    "duration": 7,
    "start_time": "2023-05-03T08:08:31.813Z"
   },
   {
    "duration": 2061,
    "start_time": "2023-05-03T08:08:34.867Z"
   },
   {
    "duration": 1902,
    "start_time": "2023-05-03T08:08:39.395Z"
   },
   {
    "duration": 2031,
    "start_time": "2023-05-03T08:08:44.900Z"
   },
   {
    "duration": 3,
    "start_time": "2023-05-03T08:30:09.527Z"
   },
   {
    "duration": 346,
    "start_time": "2023-05-03T08:30:24.888Z"
   },
   {
    "duration": 6,
    "start_time": "2023-05-03T08:30:30.296Z"
   },
   {
    "duration": 43,
    "start_time": "2023-05-03T08:30:37.643Z"
   },
   {
    "duration": 9,
    "start_time": "2023-05-03T08:40:06.551Z"
   },
   {
    "duration": 7,
    "start_time": "2023-05-03T08:40:13.730Z"
   },
   {
    "duration": 30,
    "start_time": "2023-05-03T08:40:14.957Z"
   },
   {
    "duration": 8,
    "start_time": "2023-05-03T08:40:15.857Z"
   },
   {
    "duration": 153,
    "start_time": "2023-05-03T08:40:33.353Z"
   },
   {
    "duration": 14,
    "start_time": "2023-05-03T08:40:59.603Z"
   },
   {
    "duration": 11,
    "start_time": "2023-05-03T08:41:00.805Z"
   },
   {
    "duration": 13,
    "start_time": "2023-05-03T08:41:02.094Z"
   },
   {
    "duration": 3,
    "start_time": "2023-05-03T08:41:50.229Z"
   },
   {
    "duration": 3,
    "start_time": "2023-05-03T08:41:56.665Z"
   },
   {
    "duration": 4,
    "start_time": "2023-05-03T08:42:40.151Z"
   },
   {
    "duration": 5,
    "start_time": "2023-05-03T08:42:54.621Z"
   },
   {
    "duration": 1560,
    "start_time": "2023-05-03T08:42:59.205Z"
   },
   {
    "duration": 1456,
    "start_time": "2023-05-03T08:43:03.447Z"
   },
   {
    "duration": 1466,
    "start_time": "2023-05-03T08:43:08.918Z"
   },
   {
    "duration": 4,
    "start_time": "2023-05-03T09:02:48.353Z"
   },
   {
    "duration": 524,
    "start_time": "2023-05-03T09:02:49.897Z"
   },
   {
    "duration": 5,
    "start_time": "2023-05-03T09:02:51.105Z"
   },
   {
    "duration": 71,
    "start_time": "2023-05-03T09:02:52.634Z"
   },
   {
    "duration": 128,
    "start_time": "2023-05-03T09:03:02.292Z"
   },
   {
    "duration": 10,
    "start_time": "2023-05-03T09:03:03.796Z"
   },
   {
    "duration": 908,
    "start_time": "2023-05-03T09:03:04.955Z"
   },
   {
    "duration": 575,
    "start_time": "2023-05-03T09:03:07.458Z"
   },
   {
    "duration": 5,
    "start_time": "2023-05-03T09:03:09.895Z"
   },
   {
    "duration": 18,
    "start_time": "2023-05-03T09:03:13.771Z"
   },
   {
    "duration": 4,
    "start_time": "2023-05-03T09:03:18.264Z"
   },
   {
    "duration": 13,
    "start_time": "2023-05-03T09:03:18.829Z"
   },
   {
    "duration": 14,
    "start_time": "2023-05-03T09:03:23.935Z"
   },
   {
    "duration": 20,
    "start_time": "2023-05-03T09:03:29.865Z"
   },
   {
    "duration": 5,
    "start_time": "2023-05-03T09:03:31.014Z"
   },
   {
    "duration": 5,
    "start_time": "2023-05-03T09:04:10.898Z"
   },
   {
    "duration": 96,
    "start_time": "2023-05-03T09:04:13.195Z"
   },
   {
    "duration": 23,
    "start_time": "2023-05-03T09:04:15.441Z"
   },
   {
    "duration": 50,
    "start_time": "2023-05-03T09:04:17.249Z"
   },
   {
    "duration": 3,
    "start_time": "2023-05-03T09:04:28.392Z"
   },
   {
    "duration": 3,
    "start_time": "2023-05-03T09:04:30.003Z"
   },
   {
    "duration": 4,
    "start_time": "2023-05-03T09:04:30.793Z"
   },
   {
    "duration": 4,
    "start_time": "2023-05-03T09:04:34.994Z"
   },
   {
    "duration": 5,
    "start_time": "2023-05-03T09:04:38.042Z"
   },
   {
    "duration": 1355,
    "start_time": "2023-05-03T09:04:49.359Z"
   },
   {
    "duration": 1465,
    "start_time": "2023-05-03T09:04:52.054Z"
   },
   {
    "duration": 1674,
    "start_time": "2023-05-03T09:04:55.168Z"
   },
   {
    "duration": 1573,
    "start_time": "2023-09-28T08:34:20.223Z"
   },
   {
    "duration": 494,
    "start_time": "2023-09-28T08:34:24.679Z"
   },
   {
    "duration": 557,
    "start_time": "2023-09-28T08:35:13.195Z"
   },
   {
    "duration": 154,
    "start_time": "2023-09-28T08:36:01.004Z"
   },
   {
    "duration": 128,
    "start_time": "2023-09-28T08:36:01.850Z"
   },
   {
    "duration": 575,
    "start_time": "2023-09-28T08:36:02.535Z"
   },
   {
    "duration": 2,
    "start_time": "2023-09-28T08:36:07.955Z"
   },
   {
    "duration": 44,
    "start_time": "2023-09-28T08:36:10.571Z"
   },
   {
    "duration": 123,
    "start_time": "2023-09-28T08:36:14.854Z"
   },
   {
    "duration": 9,
    "start_time": "2023-09-28T08:36:16.575Z"
   },
   {
    "duration": 975,
    "start_time": "2023-09-28T08:36:18.481Z"
   },
   {
    "duration": 618,
    "start_time": "2023-09-28T08:36:57.358Z"
   },
   {
    "duration": 3,
    "start_time": "2023-09-28T08:37:02.990Z"
   },
   {
    "duration": 11,
    "start_time": "2023-09-28T08:37:04.005Z"
   },
   {
    "duration": 3,
    "start_time": "2023-09-28T08:37:05.599Z"
   },
   {
    "duration": 11,
    "start_time": "2023-09-28T08:37:06.439Z"
   },
   {
    "duration": 12,
    "start_time": "2023-09-28T08:37:07.038Z"
   },
   {
    "duration": 13,
    "start_time": "2023-09-28T08:37:07.632Z"
   },
   {
    "duration": 4,
    "start_time": "2023-09-28T08:37:09.189Z"
   },
   {
    "duration": 3,
    "start_time": "2023-09-28T08:39:10.225Z"
   },
   {
    "duration": 21,
    "start_time": "2023-09-28T08:39:10.997Z"
   },
   {
    "duration": 13,
    "start_time": "2023-09-28T08:39:11.689Z"
   },
   {
    "duration": 13,
    "start_time": "2023-09-28T08:39:12.227Z"
   },
   {
    "duration": 2,
    "start_time": "2023-09-28T08:40:39.009Z"
   },
   {
    "duration": 4,
    "start_time": "2023-09-28T08:41:47.960Z"
   },
   {
    "duration": 3,
    "start_time": "2023-09-28T08:42:53.064Z"
   },
   {
    "duration": 2,
    "start_time": "2023-09-28T08:42:58.501Z"
   },
   {
    "duration": 5,
    "start_time": "2023-09-28T08:42:59.783Z"
   },
   {
    "duration": 105,
    "start_time": "2023-09-28T08:43:00.894Z"
   },
   {
    "duration": 4,
    "start_time": "2023-09-28T08:43:48.500Z"
   },
   {
    "duration": 5,
    "start_time": "2023-09-28T08:44:14.334Z"
   },
   {
    "duration": 1483,
    "start_time": "2023-09-28T08:44:16.486Z"
   },
   {
    "duration": 1425,
    "start_time": "2023-09-28T08:44:22.022Z"
   },
   {
    "duration": 1413,
    "start_time": "2023-09-28T08:44:25.712Z"
   }
  ],
  "kernelspec": {
   "display_name": "Python 3 (ipykernel)",
   "language": "python",
   "name": "python3"
  },
  "language_info": {
   "codemirror_mode": {
    "name": "ipython",
    "version": 3
   },
   "file_extension": ".py",
   "mimetype": "text/x-python",
   "name": "python",
   "nbconvert_exporter": "python",
   "pygments_lexer": "ipython3",
   "version": "3.9.5"
  },
  "toc": {
   "base_numbering": 1,
   "nav_menu": {},
   "number_sections": true,
   "sideBar": true,
   "skip_h1_title": true,
   "title_cell": "Table of Contents",
   "title_sidebar": "Contents",
   "toc_cell": false,
   "toc_position": {},
   "toc_section_display": true,
   "toc_window_display": false
  }
 },
 "nbformat": 4,
 "nbformat_minor": 2
}
